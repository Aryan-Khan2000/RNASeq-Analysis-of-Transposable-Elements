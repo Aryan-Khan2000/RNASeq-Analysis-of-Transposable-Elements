{
 "cells": [
  {
   "cell_type": "code",
   "execution_count": 23,
   "metadata": {},
   "outputs": [],
   "source": [
    "file = \"C:/Users/Akhan/Downloads/TEStuff/ALL_samples_GRCm39_TEs_threaded_counts.txt\"\n",
    "#out = \"/home/akhan/Downloads/ALL_samples_GRCm39_TEs_threaded_counts.csv\"\n",
    "with open(\"C:/Users/Akhan/Downloads/TEStuff/ALL_samples_GRCm39_TEs_threaded_counts.csv\", \"w\") as f_out:\n",
    "    with open(file, \"r\") as f_in:\n",
    "        for lines in f_in:\n",
    "            tmp_list = []\n",
    "            lines = lines.split()\n",
    "            for x in range(0, len(lines), 1):\n",
    "                if not lines[x].startswith(\"(\"):\n",
    "                    tmp_list.append(lines[x])\n",
    "                    f_out.write('{0}\\n'.format(','.join(tmp_list)))"
   ]
  },
  {
   "cell_type": "code",
   "execution_count": 1,
   "metadata": {},
   "outputs": [],
   "source": [
    "file = \"/home/akhan/Downloads/ALL_samples_GRCm39_TEs_threaded_counts.csv\"\n"
   ]
  },
  {
   "cell_type": "code",
   "execution_count": 4,
   "metadata": {},
   "outputs": [],
   "source": [
    "def sum_duplicate_columns(data, individuals):\n",
    "    \n",
    "    duplicate_dict = {}\n",
    "    with open(data, \"r\") as f_in:\n",
    "        for lines in f_in:\n",
    "            if not lines.startswith(\"Gene\"):\n",
    "                tmp_list = []\n",
    "                lines = lines.split(\",\")\n",
    "                if not lines[0] in duplicate_dict:\n",
    "                    for x in range(1, int(individuals), 1):\n",
    "                        tmp_list.append(int(lines[x]))\n",
    "                    duplicate_dict[lines[0]] = [tmp_list]\n",
    "                else:\n",
    "                    for x in range(1, int(individuals), 1):\n",
    "                        tmp_list.append(int(lines[x]))\n",
    "                    duplicate_dict[lines[0]].append(tmp_list)\n",
    "    return duplicate_dict"
   ]
  },
  {
   "cell_type": "code",
   "execution_count": 6,
   "metadata": {},
   "outputs": [],
   "source": [
    "with open(\"/home/akhan/Downloads/AK_summed_duplicates.csv\", \"w\") as f_out:\n",
    "    for k,v in sum_duplicate_columns(file, 29).items():\n",
    "        if len(v)>1:\n",
    "            zipped_list = zip(*v)\n",
    "            tmp_list = [sum(item) for item in zipped_list]\n",
    "            f_out.write(\"{0},{1}\\n\".format(k,','.join(str(x) for x in tmp_list)))\n",
    "        else:\n",
    "            f_out.write(\"{0},{1}\\n\".format(k, ','.join(str(x) for x in v[0])))\n"
   ]
  },
  {
   "cell_type": "code",
   "execution_count": null,
   "metadata": {},
   "outputs": [],
   "source": []
  }
 ],
 "metadata": {
  "kernelspec": {
   "display_name": "Python 3 (ipykernel)",
   "language": "python",
   "name": "python3"
  },
  "language_info": {
   "codemirror_mode": {
    "name": "ipython",
    "version": 3
   },
   "file_extension": ".py",
   "mimetype": "text/x-python",
   "name": "python",
   "nbconvert_exporter": "python",
   "pygments_lexer": "ipython3",
   "version": "3.9.7"
  }
 },
 "nbformat": 4,
 "nbformat_minor": 4
}
